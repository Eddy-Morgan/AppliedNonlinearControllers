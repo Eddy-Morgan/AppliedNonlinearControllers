{
 "cells": [
  {
   "cell_type": "code",
   "execution_count": 21,
   "id": "eacb130e",
   "metadata": {},
   "outputs": [],
   "source": [
    "import scipy as si\n",
    "import numpy as np\n",
    "from scipy.integrate import solve_ivp\n",
    "%matplotlib inline\n",
    "import matplotlib.pyplot as plt"
   ]
  },
  {
   "cell_type": "code",
   "execution_count": 26,
   "id": "eb652b20",
   "metadata": {},
   "outputs": [],
   "source": [
    "f_x = lambda x1,x2,t : np.sin(2*t) #disturbance"
   ]
  },
  {
   "cell_type": "code",
   "execution_count": 27,
   "id": "c245b36b",
   "metadata": {},
   "outputs": [],
   "source": [
    "def dSdt(t,S):\n",
    "    #print(t,S)\n",
    "    x1,x2 = S\n",
    "    k1 = 3\n",
    "    k2 = 4\n",
    "    xdot = np.zeros([2,1])\n",
    "\n",
    "    u = -k1*x1 - k2*x2\n",
    "    xdot[0] = x2\n",
    "    xdot[1] = u + f_x(x1,x2,t)\n",
    "    return [\n",
    "        xdot[0],\n",
    "        xdot[1],\n",
    "    ]"
   ]
  },
  {
   "cell_type": "code",
   "execution_count": 28,
   "id": "0848d4bc",
   "metadata": {},
   "outputs": [
    {
     "data": {
      "text/plain": [
       "'The solver successfully reached the end of the integration interval.'"
      ]
     },
     "execution_count": 28,
     "metadata": {},
     "output_type": "execute_result"
    }
   ],
   "source": [
    "t_end = 10\n",
    "t_span = (0, t_end)\n",
    "y0 = [1,-2]\n",
    "ans = solve_ivp(dSdt, t_span, y0, method='LSODA')\n",
    "ans.message"
   ]
  },
  {
   "cell_type": "code",
   "execution_count": null,
   "id": "6ccb9d05",
   "metadata": {},
   "outputs": [
    {
     "data": {
      "text/plain": [
       "Text(0.5, 1.0, 'Convergence to a domain for f(x1, x2, t) = sin.2t')"
      ]
     },
     "execution_count": 43,
     "metadata": {},
     "output_type": "execute_result"
    }
   ],
   "source": [
    "x1,x2,t_int = ans.y[0] , ans.y[1], ans.t\n",
    "plt.plot(t_int, x1, label = \"x1\",linewidth=3)\n",
    "plt.plot(t_int, x2, label = \"x2\",linewidth=3)\n",
    "plt.xlabel(\"Time (s)\")\n",
    "plt.title(\"Convergence to a domain for f(x1, x2, t) = sin.2t\")"
   ]
  },
  {
   "cell_type": "code",
   "execution_count": null,
   "id": "077cb149",
   "metadata": {},
   "outputs": [],
   "source": []
  }
 ],
 "metadata": {
  "kernelspec": {
   "display_name": "Python 3 (ipykernel)",
   "language": "python",
   "name": "python3"
  },
  "language_info": {
   "codemirror_mode": {
    "name": "ipython",
    "version": 3
   },
   "file_extension": ".py",
   "mimetype": "text/x-python",
   "name": "python",
   "nbconvert_exporter": "python",
   "pygments_lexer": "ipython3",
   "version": "3.10.6"
  }
 },
 "nbformat": 4,
 "nbformat_minor": 5
}
